{
 "metadata": {
  "language_info": {
   "codemirror_mode": {
    "name": "ipython",
    "version": 3
   },
   "file_extension": ".py",
   "mimetype": "text/x-python",
   "name": "python",
   "nbconvert_exporter": "python",
   "pygments_lexer": "ipython3",
   "version": "3.7.3-final"
  },
  "orig_nbformat": 2,
  "kernelspec": {
   "name": "python3",
   "display_name": "Python 3.7.3 32-bit",
   "metadata": {
    "interpreter": {
     "hash": "31f2aee4e71d21fbe5cf8b01ff0e069b9275f58929596ceb00d14d90e3e16cd6"
    }
   }
  }
 },
 "nbformat": 4,
 "nbformat_minor": 2,
 "cells": [
  {
   "cell_type": "code",
   "execution_count": 1,
   "metadata": {},
   "outputs": [],
   "source": [
    "import os\n",
    "import sys\n",
    "import random\n",
    "import warnings\n",
    "import numpy as np\n",
    "import pandas as pd\n",
    "import tensorflow as tf\n",
    "from datetime import datetime, date\n",
    "from sklearn.model_selection import train_test_split"
   ]
  },
  {
   "cell_type": "code",
   "execution_count": 3,
   "metadata": {},
   "outputs": [],
   "source": [
    "sys.path.insert(0,'..')\n",
    "\n",
    "from src.model.create_model import create_model\n",
    "from src.data.get_tf_records import get_dataset\n",
    "from src.model.model_callbacks import get_model_callbacks"
   ]
  },
  {
   "cell_type": "code",
   "execution_count": 4,
   "metadata": {},
   "outputs": [
    {
     "output_type": "stream",
     "name": "stdout",
     "text": [
      "Tensorflow version 2.4.0\nNum GPUs Available:  0\nUsing default strategy for CPU and single GPU\nREPLICAS: 1\n"
     ]
    }
   ],
   "source": [
    "SEED = 1\n",
    "VERBOSE_LEVEL = 1\n",
    "\n",
    "# suppress tf logs and warnings\n",
    "os.environ[\"TF_CPP_MIN_LOG_LEVEL\"] = \"2\"\n",
    "warnings.filterwarnings('ignore')\n",
    "tf.get_logger().setLevel('ERROR')\n",
    "tf.autograph.set_verbosity(2)\n",
    "\n",
    "# seed everything\n",
    "random.seed(SEED)\n",
    "np.random.seed(SEED)\n",
    "tf.random.set_seed(SEED)\n",
    "os.environ['TF_KERAS'] = str(SEED)\n",
    "os.environ['PYTHONHASHSEED'] = str(SEED)\n",
    "os.environ['TF_DETERMINISTIC_OPS'] = str(SEED)\n",
    "os.environ['TF_CUDNN_DETERMINISTIC'] = str(SEED)\n",
    "\n",
    "\n",
    "# get the current timestamp. This timestamp is used to save the model data with a unique name\n",
    "now = datetime.now()\n",
    "today = date.today()\n",
    "current_time = now.strftime(\"%H:%M:%S\")\n",
    "timestamp = str(today) + \"_\" + str(current_time)\n",
    "\n",
    "\n",
    "# Tensorflow execution optimizations\n",
    "# Source: https://www.tensorflow.org/guide/mixed_precision & https://www.tensorflow.org/xla\n",
    "print(\"Tensorflow version \" + tf.__version__)\n",
    "strategy = tf.distribute.get_strategy()\n",
    "num_gpus = len(\n",
    "    tf.config.experimental.list_physical_devices('GPU')\n",
    ")\n",
    "\n",
    "if num_gpus > 0:\n",
    "    print(\"Num GPUs Available: \", num_gpus)\n",
    "    from tensorflow.keras.mixed_precision import experimental as mixed_precision\n",
    "    policy = tf.keras.mixed_precision.experimental.Policy('mixed_float16')\n",
    "    mixed_precision.set_policy(policy)\n",
    "    print('Mixed precision enabled')\n",
    "    tf.config.optimizer.set_jit(True)\n",
    "    print('Accelerated Linear Algebra enabled')\n",
    "\n",
    "\n",
    "strategy = tf.distribute.get_strategy()\n",
    "REPLICAS = strategy.num_replicas_in_sync\n",
    "AUTOTUNE = tf.data.experimental.AUTOTUNE\n",
    "\n",
    "print(\"Num GPUs Available: \", len(\n",
    "    tf.config.experimental.list_physical_devices('GPU')))\n",
    "print(\"Using default strategy for CPU and single GPU\")\n",
    "print(\"REPLICAS:\", REPLICAS)\n"
   ]
  },
  {
   "cell_type": "code",
   "execution_count": 5,
   "metadata": {},
   "outputs": [
    {
     "output_type": "stream",
     "name": "stdout",
     "text": [
      "Tensorflow version 2.4.0\n"
     ]
    }
   ],
   "source": [
    "print(\"Tensorflow version \" + tf.__version__)\n",
    "cwd = os.path.abspath(os.path.join(os.getcwd(), os.pardir))"
   ]
  },
  {
   "cell_type": "code",
   "execution_count": 8,
   "metadata": {},
   "outputs": [
    {
     "output_type": "stream",
     "name": "stdout",
     "text": [
      "Weight for class 0: 0.51\nWeight for class 1: 28.36\n"
     ]
    }
   ],
   "source": [
    "# Correcting for data inbalance\n",
    "train_df = pd.read_csv(cwd + '/data/train.csv')\n",
    "malignant = np.count_nonzero(train_df['target'])\n",
    "total_img = train_df['target'].size\n",
    "benign = total_img - malignant\n",
    "\n",
    "bias = np.log([malignant/benign])\n",
    "\n",
    "weight_for_0 = (1 / benign)*(total_img)/2.0\n",
    "weight_for_1 = (1 / malignant)*(total_img)/2.0\n",
    "\n",
    "class_weight = {0: weight_for_0, 1: weight_for_1}\n",
    "\n",
    "print('Weight for class 0: {:.2f}'.format(weight_for_0))\n",
    "print('Weight for class 1: {:.2f}'.format(weight_for_1))"
   ]
  },
  {
   "cell_type": "code",
   "execution_count": 22,
   "metadata": {},
   "outputs": [
    {
     "output_type": "stream",
     "name": "stdout",
     "text": [
      "Train TFRecord Files: 1\nValidation TFRecord Files: 1\nTest TFRecord Files: 16\nsteps_per_epoch 200\nvalidation_steps 80\n"
     ]
    }
   ],
   "source": [
    "# global config\n",
    "save_output = True\n",
    "\n",
    "# check the runtime\n",
    "cwd = \"/\".join(os.getcwd().split(\"/\")[:-1])\n",
    "\n",
    "epochs = 20\n",
    "batch_size = 64\n",
    "optimizer='adam'\n",
    "loss = 'binary_crossentropy'\n",
    "metrics = [\n",
    "    'accuracy',\n",
    "    'AUC'\n",
    "]\n",
    "\n",
    "dim = 512\n",
    "num_classes = 1\n",
    "img_shape = (dim, dim, 3)\n",
    "\n",
    "training_tfrecords, validation_tfrecords = train_test_split(\n",
    "    tf.io.gfile.glob(cwd + \"/data/train*.tfrec\"),\n",
    "    test_size=0.2, \n",
    "    random_state=SEED\n",
    ")\n",
    "\n",
    "test_tfrecords = tf.io.gfile.glob(cwd + \"/data/test*.tfrec\")\n",
    "\n",
    "print(\"Train TFRecord Files:\", len(training_tfrecords))\n",
    "print(\"Validation TFRecord Files:\", len(validation_tfrecords))\n",
    "print(\"Test TFRecord Files:\", len(test_tfrecords))\n",
    "\n",
    "files_train = count_data_items(training_tfrecords)\n",
    "files_val = count_data_items(validation_tfrecords)\n",
    "\n",
    "steps_per_epoch = files_train/batch_size//REPLICAS\n",
    "validation_steps = files_val/batch_size//REPLICAS\n",
    "\n",
    "print(\"steps_per_epoch\", steps_per_epoch)\n",
    "print(\"validation_steps\", validation_steps)"
   ]
  },
  {
   "cell_type": "code",
   "execution_count": 23,
   "metadata": {},
   "outputs": [],
   "source": [
    "train_ds = get_dataset(training_tfrecords, augment=True,\n",
    "                        shuffle=True, repeat=False, dim=dim, batch_size=batch_size)\n",
    "val_ds = get_dataset(validation_tfrecords, augment=False,\n",
    "                        shuffle=False, repeat=False, dim=dim, batch_size=batch_size)"
   ]
  },
  {
   "cell_type": "code",
   "execution_count": 24,
   "metadata": {},
   "outputs": [
    {
     "output_type": "stream",
     "name": "stdout",
     "text": [
      "create model\n",
      "Model: \"sequential_2\"\n",
      "_________________________________________________________________\n",
      "Layer (type)                 Output Shape              Param #   \n",
      "=================================================================\n",
      "resnet101v2 (Functional)     (None, 16, 16, 2048)      42626560  \n",
      "_________________________________________________________________\n",
      "global_average_pooling2d_1 ( (None, 2048)              0         \n",
      "_________________________________________________________________\n",
      "dense_5 (Dense)              (None, 1024)              2098176   \n",
      "_________________________________________________________________\n",
      "dropout_4 (Dropout)          (None, 1024)              0         \n",
      "_________________________________________________________________\n",
      "dense_6 (Dense)              (None, 512)               524800    \n",
      "_________________________________________________________________\n",
      "dropout_5 (Dropout)          (None, 512)               0         \n",
      "_________________________________________________________________\n",
      "dense_7 (Dense)              (None, 256)               131328    \n",
      "_________________________________________________________________\n",
      "dropout_6 (Dropout)          (None, 256)               0         \n",
      "_________________________________________________________________\n",
      "dense_8 (Dense)              (None, 128)               32896     \n",
      "_________________________________________________________________\n",
      "dropout_7 (Dropout)          (None, 128)               0         \n",
      "_________________________________________________________________\n",
      "dense_9 (Dense)              (None, 1)                 129       \n",
      "=================================================================\n",
      "Total params: 45,413,889\n",
      "Trainable params: 17,737,729\n",
      "Non-trainable params: 27,676,160\n",
      "_________________________________________________________________\n"
     ]
    }
   ],
   "source": [
    "model = create_model(img_shape, num_classes, bias)\n",
    "model.compile(\n",
    "    loss=loss,\n",
    "    metrics=metrics,\n",
    "    optimizer=optimizer,\n",
    ")"
   ]
  },
  {
   "cell_type": "code",
   "execution_count": 25,
   "metadata": {},
   "outputs": [
    {
     "output_type": "stream",
     "name": "stdout",
     "text": [
      "Epoch 1/2\n"
     ]
    }
   ],
   "source": [
    "model.fit(\n",
    "    train_ds,\n",
    "    epochs=epochs,\n",
    "    callbacks=get_model_callbacks(VERBOSE_LEVEL, save_output, timestamp),\n",
    "    steps_per_epoch=steps_per_epoch,\n",
    "    validation_data=val_ds,\n",
    "    verbose=VERBOSE_LEVEL,\n",
    "    class_weight=class_weight\n",
    ")"
   ]
  },
  {
   "cell_type": "code",
   "execution_count": null,
   "metadata": {},
   "outputs": [],
   "source": []
  }
 ]
}