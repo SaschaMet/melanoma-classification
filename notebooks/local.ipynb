{
 "metadata": {
  "language_info": {
   "codemirror_mode": {
    "name": "ipython",
    "version": 3
   },
   "file_extension": ".py",
   "mimetype": "text/x-python",
   "name": "python",
   "nbconvert_exporter": "python",
   "pygments_lexer": "ipython3",
   "version": "3.8.2-final"
  },
  "orig_nbformat": 2,
  "kernelspec": {
   "name": "python3",
   "display_name": "Python 3.8.2 64-bit",
   "metadata": {
    "interpreter": {
     "hash": "31f2aee4e71d21fbe5cf8b01ff0e069b9275f58929596ceb00d14d90e3e16cd6"
    }
   }
  }
 },
 "nbformat": 4,
 "nbformat_minor": 2,
 "cells": [
  {
   "cell_type": "code",
   "execution_count": 5,
   "metadata": {},
   "outputs": [],
   "source": [
    "import os\n",
    "import sys\n",
    "import random\n",
    "import warnings\n",
    "import numpy as np\n",
    "import tensorflow as tf\n",
    "from datetime import datetime, date"
   ]
  },
  {
   "cell_type": "code",
   "execution_count": 11,
   "metadata": {},
   "outputs": [],
   "source": [
    "sys.path.insert(0,'..')\n",
    "\n",
    "from src.model.create_model import create_model\n",
    "from src.data.get_tf_records import get_dataset\n",
    "from src.model.model_callbacks import get_model_callbacks"
   ]
  },
  {
   "cell_type": "code",
   "execution_count": 7,
   "metadata": {},
   "outputs": [
    {
     "output_type": "stream",
     "name": "stdout",
     "text": [
      "Tensorflow version 2.4.1\nNum GPUs Available:  0\nUsing default strategy for CPU and single GPU\nREPLICAS: 1\n"
     ]
    }
   ],
   "source": [
    "SEED = 1\n",
    "VERBOSE_LEVEL = 1\n",
    "\n",
    "# suppress tf logs and warnings\n",
    "os.environ[\"TF_CPP_MIN_LOG_LEVEL\"] = \"2\"\n",
    "warnings.filterwarnings('ignore')\n",
    "tf.get_logger().setLevel('ERROR')\n",
    "tf.autograph.set_verbosity(2)\n",
    "\n",
    "# seed everything\n",
    "random.seed(SEED)\n",
    "np.random.seed(SEED)\n",
    "tf.random.set_seed(SEED)\n",
    "os.environ['TF_KERAS'] = str(SEED)\n",
    "os.environ['PYTHONHASHSEED'] = str(SEED)\n",
    "os.environ['TF_DETERMINISTIC_OPS'] = str(SEED)\n",
    "os.environ['TF_CUDNN_DETERMINISTIC'] = str(SEED)\n",
    "\n",
    "\n",
    "# get the current timestamp. This timestamp is used to save the model data with a unique name\n",
    "now = datetime.now()\n",
    "today = date.today()\n",
    "current_time = now.strftime(\"%H:%M:%S\")\n",
    "timestamp = str(today) + \"_\" + str(current_time)\n",
    "\n",
    "\n",
    "# Tensorflow execution optimizations\n",
    "# Source: https://www.tensorflow.org/guide/mixed_precision & https://www.tensorflow.org/xla\n",
    "print(\"Tensorflow version \" + tf.__version__)\n",
    "strategy = tf.distribute.get_strategy()\n",
    "num_gpus = len(\n",
    "    tf.config.experimental.list_physical_devices('GPU')\n",
    ")\n",
    "\n",
    "if num_gpus > 0:\n",
    "    print(\"Num GPUs Available: \", num_gpus)\n",
    "    from tensorflow.keras.mixed_precision import experimental as mixed_precision\n",
    "    policy = tf.keras.mixed_precision.experimental.Policy('mixed_float16')\n",
    "    mixed_precision.set_policy(policy)\n",
    "    print('Mixed precision enabled')\n",
    "    tf.config.optimizer.set_jit(True)\n",
    "    print('Accelerated Linear Algebra enabled')\n",
    "\n",
    "\n",
    "strategy = tf.distribute.get_strategy()\n",
    "REPLICAS = strategy.num_replicas_in_sync\n",
    "AUTOTUNE = tf.data.experimental.AUTOTUNE\n",
    "\n",
    "print(\"Num GPUs Available: \", len(\n",
    "    tf.config.experimental.list_physical_devices('GPU')))\n",
    "print(\"Using default strategy for CPU and single GPU\")\n",
    "print(\"REPLICAS:\", REPLICAS)\n"
   ]
  },
  {
   "cell_type": "code",
   "execution_count": 8,
   "metadata": {},
   "outputs": [
    {
     "output_type": "stream",
     "name": "stdout",
     "text": [
      "Tensorflow version 2.4.1\n"
     ]
    }
   ],
   "source": [
    "print(\"Tensorflow version \" + tf.__version__)\n",
    "cwd = os.path.abspath(os.path.join(os.getcwd(), os.pardir))"
   ]
  },
  {
   "cell_type": "code",
   "execution_count": 9,
   "metadata": {},
   "outputs": [
    {
     "output_type": "stream",
     "name": "stdout",
     "text": [
      "Train TFRecord Files: 1\nValidation TFRecord Files: 0\nTest TFRecord Files: 1\n"
     ]
    }
   ],
   "source": [
    "TRAINING_FILENAMES = tf.io.gfile.glob(cwd + \"/data/train*.tfrec\")[:10]\n",
    "VALIDATION_FILENAMES = tf.io.gfile.glob(cwd + \"/data/train*.tfrec\")[10:16]\n",
    "TEST_FILENAMES = tf.io.gfile.glob(cwd + \"/data/test*.tfrec\")\n",
    "\n",
    "print(\"Train TFRecord Files:\", len(TRAINING_FILENAMES))\n",
    "print(\"Validation TFRecord Files:\", len(VALIDATION_FILENAMES))\n",
    "print(\"Test TFRecord Files:\", len(TEST_FILENAMES))"
   ]
  },
  {
   "cell_type": "code",
   "execution_count": null,
   "metadata": {},
   "outputs": [],
   "source": [
    "# Load the TensorBoard notebook extension\n",
    "%load_ext tensorboard\n",
    "\n",
    "# Clear any logs from previous runs\n",
    "!rm -rf ./logs/\n",
    "\n",
    "%tensorboard --logdir logs/fit"
   ]
  },
  {
   "cell_type": "code",
   "execution_count": null,
   "metadata": {},
   "outputs": [],
   "source": [
    "# global config\n",
    "save_output = True\n",
    "\n",
    "# check the runtime\n",
    "cwd = os.getcwd()\n",
    "if cwd == \"/content\":\n",
    "    cwd = \"/content/melanoma-classification\"\n",
    "    print('Running on google colab')\n",
    "\n",
    "epochs = 10\n",
    "batch_size = 32\n",
    "learning_rate = 1e-4\n",
    "optimizer = tf.keras.optimizers.Adam(lr=learning_rate)\n",
    "loss = 'binary_crossentropy'\n",
    "metrics = [\n",
    "    'accuracy',\n",
    "    'AUC'\n",
    "]\n",
    "\n",
    "dim = 512\n",
    "num_classes = 1\n",
    "img_shape = (dim, dim, 3)\n",
    "\n",
    "training_tfrecords = tf.io.gfile.glob(cwd + \"/data/train*.tfrec\")[:10]\n",
    "validation_tfrecords = tf.io.gfile.glob(cwd + \"/data/train*.tfrec\")[11:16]\n",
    "test_tfrecords = tf.io.gfile.glob(cwd + \"/data/test*.tfrec\")\n",
    "\n",
    "print(\"Train TFRecord Files:\", len(training_tfrecords))\n",
    "print(\"Validation TFRecord Files:\", len(validation_tfrecords))\n",
    "print(\"Test TFRecord Files:\", len(test_tfrecords))\n",
    "\n",
    "# files_train = count_data_items(training_tfrecords)\n",
    "# files_val = count_data_items(validation_tfrecords)\n",
    "\n",
    "steps_per_epoch = 200  # files_train/batch_size//REPLICAS\n",
    "validation_steps = 80  # files_val/batch_size//REPLICAS\n",
    "\n",
    "print(\"steps_per_epoch\", steps_per_epoch)\n",
    "print(\"validation_steps\", validation_steps)"
   ]
  },
  {
   "cell_type": "code",
   "execution_count": null,
   "metadata": {},
   "outputs": [],
   "source": [
    "train_ds = get_dataset(training_tfrecords, augment=True,\n",
    "                        shuffle=True, repeat=False, dim=dim, batch_size=batch_size)\n",
    "val_ds = get_dataset(validation_tfrecords, augment=False,\n",
    "                        shuffle=False, repeat=False, dim=dim, batch_size=batch_size)"
   ]
  },
  {
   "cell_type": "code",
   "execution_count": null,
   "metadata": {},
   "outputs": [],
   "source": [
    "model = create_model(img_shape, num_classes)\n",
    "model.compile(\n",
    "    loss=loss,\n",
    "    metrics=metrics,\n",
    "    optimizer=optimizer,\n",
    ")"
   ]
  },
  {
   "cell_type": "code",
   "execution_count": null,
   "metadata": {},
   "outputs": [],
   "source": [
    "model.fit(\n",
    "    train_ds,\n",
    "    epochs=epochs,\n",
    "    callbacks=get_model_callbacks(VERBOSE_LEVEL, save_output, timestamp),\n",
    "    steps_per_epoch=steps_per_epoch,\n",
    "    validation_data=val_ds,\n",
    "    verbose=VERBOSE_LEVEL\n",
    ")"
   ]
  },
  {
   "cell_type": "code",
   "execution_count": null,
   "metadata": {},
   "outputs": [],
   "source": [
    "model.save('model_files')"
   ]
  }
 ]
}