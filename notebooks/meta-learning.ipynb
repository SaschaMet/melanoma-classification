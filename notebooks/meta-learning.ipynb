{
 "metadata": {
  "language_info": {
   "codemirror_mode": {
    "name": "ipython",
    "version": 3
   },
   "file_extension": ".py",
   "mimetype": "text/x-python",
   "name": "python",
   "nbconvert_exporter": "python",
   "pygments_lexer": "ipython3",
   "version": "3.9.2"
  },
  "orig_nbformat": 2,
  "kernelspec": {
   "name": "python392jvsc74a57bd0aee8b7b246df8f9039afb4144a1f6fd8d2ca17a180786b69acc140d282b71a49",
   "display_name": "Python 3.9.2 64-bit"
  },
  "metadata": {
   "interpreter": {
    "hash": "aee8b7b246df8f9039afb4144a1f6fd8d2ca17a180786b69acc140d282b71a49"
   }
  }
 },
 "nbformat": 4,
 "nbformat_minor": 2,
 "cells": [
  {
   "source": [
    "# Setup"
   ],
   "cell_type": "markdown",
   "metadata": {}
  },
  {
   "cell_type": "code",
   "execution_count": 143,
   "metadata": {},
   "outputs": [],
   "source": [
    "import random\n",
    "import numpy as np\n",
    "import pandas as pd\n",
    "from joblib import dump, load\n",
    "from sklearn.metrics import roc_auc_score\n",
    "from sklearn.preprocessing import StandardScaler\n",
    "from sklearn.ensemble import RandomForestClassifier\n",
    "from sklearn.model_selection import StratifiedKFold, train_test_split"
   ]
  },
  {
   "cell_type": "code",
   "execution_count": 5,
   "metadata": {},
   "outputs": [],
   "source": [
    "SEED = 1\n",
    "\n",
    "random.seed(SEED)\n",
    "np.random.seed(SEED)\n",
    "os.environ['PYTHONHASHSEED'] = str(SEED)"
   ]
  },
  {
   "source": [
    "# Data loading & preparation"
   ],
   "cell_type": "markdown",
   "metadata": {}
  },
  {
   "cell_type": "code",
   "execution_count": 26,
   "metadata": {},
   "outputs": [],
   "source": [
    "df = pd.read_csv(\"../data/train.csv\")\n",
    "df_test = pd.read_csv(\"../data/test.csv\")"
   ]
  },
  {
   "cell_type": "code",
   "execution_count": 27,
   "metadata": {},
   "outputs": [
    {
     "output_type": "execute_result",
     "data": {
      "text/plain": [
       "     image_name  patient_id     sex  age_approx anatom_site_general_challenge  \\\n",
       "0  ISIC_2637011  IP_7279968    male        45.0                     head/neck   \n",
       "1  ISIC_0015719  IP_3075186  female        45.0               upper extremity   \n",
       "2  ISIC_0052212  IP_2842074  female        50.0               lower extremity   \n",
       "3  ISIC_0068279  IP_6890425  female        45.0                     head/neck   \n",
       "4  ISIC_0074268  IP_8723313  female        55.0               upper extremity   \n",
       "\n",
       "  diagnosis benign_malignant  target  \n",
       "0   unknown           benign       0  \n",
       "1   unknown           benign       0  \n",
       "2     nevus           benign       0  \n",
       "3   unknown           benign       0  \n",
       "4   unknown           benign       0  "
      ],
      "text/html": "<div>\n<style scoped>\n    .dataframe tbody tr th:only-of-type {\n        vertical-align: middle;\n    }\n\n    .dataframe tbody tr th {\n        vertical-align: top;\n    }\n\n    .dataframe thead th {\n        text-align: right;\n    }\n</style>\n<table border=\"1\" class=\"dataframe\">\n  <thead>\n    <tr style=\"text-align: right;\">\n      <th></th>\n      <th>image_name</th>\n      <th>patient_id</th>\n      <th>sex</th>\n      <th>age_approx</th>\n      <th>anatom_site_general_challenge</th>\n      <th>diagnosis</th>\n      <th>benign_malignant</th>\n      <th>target</th>\n    </tr>\n  </thead>\n  <tbody>\n    <tr>\n      <th>0</th>\n      <td>ISIC_2637011</td>\n      <td>IP_7279968</td>\n      <td>male</td>\n      <td>45.0</td>\n      <td>head/neck</td>\n      <td>unknown</td>\n      <td>benign</td>\n      <td>0</td>\n    </tr>\n    <tr>\n      <th>1</th>\n      <td>ISIC_0015719</td>\n      <td>IP_3075186</td>\n      <td>female</td>\n      <td>45.0</td>\n      <td>upper extremity</td>\n      <td>unknown</td>\n      <td>benign</td>\n      <td>0</td>\n    </tr>\n    <tr>\n      <th>2</th>\n      <td>ISIC_0052212</td>\n      <td>IP_2842074</td>\n      <td>female</td>\n      <td>50.0</td>\n      <td>lower extremity</td>\n      <td>nevus</td>\n      <td>benign</td>\n      <td>0</td>\n    </tr>\n    <tr>\n      <th>3</th>\n      <td>ISIC_0068279</td>\n      <td>IP_6890425</td>\n      <td>female</td>\n      <td>45.0</td>\n      <td>head/neck</td>\n      <td>unknown</td>\n      <td>benign</td>\n      <td>0</td>\n    </tr>\n    <tr>\n      <th>4</th>\n      <td>ISIC_0074268</td>\n      <td>IP_8723313</td>\n      <td>female</td>\n      <td>55.0</td>\n      <td>upper extremity</td>\n      <td>unknown</td>\n      <td>benign</td>\n      <td>0</td>\n    </tr>\n  </tbody>\n</table>\n</div>"
     },
     "metadata": {},
     "execution_count": 27
    }
   ],
   "source": [
    "df.head()"
   ]
  },
  {
   "cell_type": "code",
   "execution_count": 28,
   "metadata": {},
   "outputs": [
    {
     "output_type": "execute_result",
     "data": {
      "text/plain": [
       "image_name                        object\n",
       "patient_id                        object\n",
       "sex                               object\n",
       "age_approx                       float64\n",
       "anatom_site_general_challenge     object\n",
       "diagnosis                         object\n",
       "benign_malignant                  object\n",
       "target                             int64\n",
       "dtype: object"
      ]
     },
     "metadata": {},
     "execution_count": 28
    }
   ],
   "source": [
    "df.dtypes"
   ]
  },
  {
   "cell_type": "code",
   "execution_count": 29,
   "metadata": {},
   "outputs": [
    {
     "output_type": "execute_result",
     "data": {
      "text/plain": [
       "                                                     columns  percent_null  \\\n",
       "image_name                                        image_name      0.000000   \n",
       "patient_id                                        patient_id      0.000000   \n",
       "sex                                                      sex      0.196220   \n",
       "age_approx                                        age_approx      0.205277   \n",
       "anatom_site_general_challenge  anatom_site_general_challenge      1.590895   \n",
       "diagnosis                                          diagnosis      0.000000   \n",
       "benign_malignant                            benign_malignant      0.000000   \n",
       "target                                                target      0.000000   \n",
       "\n",
       "                               percent_zero  total_zero  \n",
       "image_name                         0.000000    0.000000  \n",
       "patient_id                         0.000000    0.000000  \n",
       "sex                                0.000000    0.196220  \n",
       "age_approx                         0.006038    0.211314  \n",
       "anatom_site_general_challenge      0.000000    1.590895  \n",
       "diagnosis                          0.000000    0.000000  \n",
       "benign_malignant                   0.000000    0.000000  \n",
       "target                            98.237034   98.237034  "
      ],
      "text/html": "<div>\n<style scoped>\n    .dataframe tbody tr th:only-of-type {\n        vertical-align: middle;\n    }\n\n    .dataframe tbody tr th {\n        vertical-align: top;\n    }\n\n    .dataframe thead th {\n        text-align: right;\n    }\n</style>\n<table border=\"1\" class=\"dataframe\">\n  <thead>\n    <tr style=\"text-align: right;\">\n      <th></th>\n      <th>columns</th>\n      <th>percent_null</th>\n      <th>percent_zero</th>\n      <th>total_zero</th>\n    </tr>\n  </thead>\n  <tbody>\n    <tr>\n      <th>image_name</th>\n      <td>image_name</td>\n      <td>0.000000</td>\n      <td>0.000000</td>\n      <td>0.000000</td>\n    </tr>\n    <tr>\n      <th>patient_id</th>\n      <td>patient_id</td>\n      <td>0.000000</td>\n      <td>0.000000</td>\n      <td>0.000000</td>\n    </tr>\n    <tr>\n      <th>sex</th>\n      <td>sex</td>\n      <td>0.196220</td>\n      <td>0.000000</td>\n      <td>0.196220</td>\n    </tr>\n    <tr>\n      <th>age_approx</th>\n      <td>age_approx</td>\n      <td>0.205277</td>\n      <td>0.006038</td>\n      <td>0.211314</td>\n    </tr>\n    <tr>\n      <th>anatom_site_general_challenge</th>\n      <td>anatom_site_general_challenge</td>\n      <td>1.590895</td>\n      <td>0.000000</td>\n      <td>1.590895</td>\n    </tr>\n    <tr>\n      <th>diagnosis</th>\n      <td>diagnosis</td>\n      <td>0.000000</td>\n      <td>0.000000</td>\n      <td>0.000000</td>\n    </tr>\n    <tr>\n      <th>benign_malignant</th>\n      <td>benign_malignant</td>\n      <td>0.000000</td>\n      <td>0.000000</td>\n      <td>0.000000</td>\n    </tr>\n    <tr>\n      <th>target</th>\n      <td>target</td>\n      <td>0.000000</td>\n      <td>98.237034</td>\n      <td>98.237034</td>\n    </tr>\n  </tbody>\n</table>\n</div>"
     },
     "metadata": {},
     "execution_count": 29
    }
   ],
   "source": [
    "null_df = pd.DataFrame({'columns': df.columns, \n",
    "                        'percent_null': df.isnull().sum() * 100 / len(df), \n",
    "                        'percent_zero': df.isin([0]).sum() * 100 / len(df),\n",
    "                        'total_zero': df.isnull().sum() * 100 / len(df) + df.isin([0]).sum() * 100 / len(df),\n",
    "                        })\n",
    "null_df"
   ]
  },
  {
   "cell_type": "code",
   "execution_count": 30,
   "metadata": {},
   "outputs": [],
   "source": [
    "# getting dummy variables for gender\n",
    "sex_dummies = pd.get_dummies(df['sex'], prefix='sex', dtype=\"int\")\n",
    "df = pd.concat([df, sex_dummies], axis=1)\n",
    "\n",
    "# getting dummy variables for anatom_site_general_challenge\n",
    "anatom_dummies = pd.get_dummies(df['anatom_site_general_challenge'], prefix='anatom', dtype=\"int\")\n",
    "df = pd.concat([df, anatom_dummies], axis=1)\n",
    "\n",
    "# dropping not useful columns\n",
    "df.drop(['sex','diagnosis','benign_malignant','anatom_site_general_challenge', 'image_name', 'patient_id'], axis=1, inplace=True)\n",
    "\n",
    "# replace missing age values wiht the mean age\n",
    "df['age_approx'] = df['age_approx'].fillna(int(np.mean(df['age_approx'])))\n",
    "\n",
    "# convert age to int\n",
    "df['age_approx'] = df['age_approx'].astype('int')"
   ]
  },
  {
   "cell_type": "code",
   "execution_count": 31,
   "metadata": {},
   "outputs": [
    {
     "output_type": "execute_result",
     "data": {
      "text/plain": [
       "                                       columns  percent_null  percent_zero  \\\n",
       "age_approx                          age_approx           0.0      0.006038   \n",
       "target                                  target           0.0     98.237034   \n",
       "sex_female                          sex_female           0.0     51.756928   \n",
       "sex_male                              sex_male           0.0     48.439292   \n",
       "anatom_head/neck              anatom_head/neck           0.0     94.400169   \n",
       "anatom_lower extremity  anatom_lower extremity           0.0     74.590956   \n",
       "anatom_oral/genital        anatom_oral/genital           0.0     99.625672   \n",
       "anatom_palms/soles          anatom_palms/soles           0.0     98.867959   \n",
       "anatom_torso                      anatom_torso           0.0     49.148705   \n",
       "anatom_upper extremity  anatom_upper extremity           0.0     84.957435   \n",
       "\n",
       "                        total_zero  \n",
       "age_approx                0.006038  \n",
       "target                   98.237034  \n",
       "sex_female               51.756928  \n",
       "sex_male                 48.439292  \n",
       "anatom_head/neck         94.400169  \n",
       "anatom_lower extremity   74.590956  \n",
       "anatom_oral/genital      99.625672  \n",
       "anatom_palms/soles       98.867959  \n",
       "anatom_torso             49.148705  \n",
       "anatom_upper extremity   84.957435  "
      ],
      "text/html": "<div>\n<style scoped>\n    .dataframe tbody tr th:only-of-type {\n        vertical-align: middle;\n    }\n\n    .dataframe tbody tr th {\n        vertical-align: top;\n    }\n\n    .dataframe thead th {\n        text-align: right;\n    }\n</style>\n<table border=\"1\" class=\"dataframe\">\n  <thead>\n    <tr style=\"text-align: right;\">\n      <th></th>\n      <th>columns</th>\n      <th>percent_null</th>\n      <th>percent_zero</th>\n      <th>total_zero</th>\n    </tr>\n  </thead>\n  <tbody>\n    <tr>\n      <th>age_approx</th>\n      <td>age_approx</td>\n      <td>0.0</td>\n      <td>0.006038</td>\n      <td>0.006038</td>\n    </tr>\n    <tr>\n      <th>target</th>\n      <td>target</td>\n      <td>0.0</td>\n      <td>98.237034</td>\n      <td>98.237034</td>\n    </tr>\n    <tr>\n      <th>sex_female</th>\n      <td>sex_female</td>\n      <td>0.0</td>\n      <td>51.756928</td>\n      <td>51.756928</td>\n    </tr>\n    <tr>\n      <th>sex_male</th>\n      <td>sex_male</td>\n      <td>0.0</td>\n      <td>48.439292</td>\n      <td>48.439292</td>\n    </tr>\n    <tr>\n      <th>anatom_head/neck</th>\n      <td>anatom_head/neck</td>\n      <td>0.0</td>\n      <td>94.400169</td>\n      <td>94.400169</td>\n    </tr>\n    <tr>\n      <th>anatom_lower extremity</th>\n      <td>anatom_lower extremity</td>\n      <td>0.0</td>\n      <td>74.590956</td>\n      <td>74.590956</td>\n    </tr>\n    <tr>\n      <th>anatom_oral/genital</th>\n      <td>anatom_oral/genital</td>\n      <td>0.0</td>\n      <td>99.625672</td>\n      <td>99.625672</td>\n    </tr>\n    <tr>\n      <th>anatom_palms/soles</th>\n      <td>anatom_palms/soles</td>\n      <td>0.0</td>\n      <td>98.867959</td>\n      <td>98.867959</td>\n    </tr>\n    <tr>\n      <th>anatom_torso</th>\n      <td>anatom_torso</td>\n      <td>0.0</td>\n      <td>49.148705</td>\n      <td>49.148705</td>\n    </tr>\n    <tr>\n      <th>anatom_upper extremity</th>\n      <td>anatom_upper extremity</td>\n      <td>0.0</td>\n      <td>84.957435</td>\n      <td>84.957435</td>\n    </tr>\n  </tbody>\n</table>\n</div>"
     },
     "metadata": {},
     "execution_count": 31
    }
   ],
   "source": [
    "null_df = pd.DataFrame({'columns': df.columns, \n",
    "                        'percent_null': df.isnull().sum() * 100 / len(df), \n",
    "                        'percent_zero': df.isin([0]).sum() * 100 / len(df),\n",
    "                        'total_zero': df.isnull().sum() * 100 / len(df) + df.isin([0]).sum() * 100 / len(df),\n",
    "                        })\n",
    "null_df"
   ]
  },
  {
   "cell_type": "code",
   "execution_count": 37,
   "metadata": {},
   "outputs": [],
   "source": [
    "# Scale age column\n",
    "scaler = StandardScaler()\n",
    "df[['age_approx']] = scaler.fit_transform(df[['age_approx']])"
   ]
  },
  {
   "cell_type": "code",
   "execution_count": 39,
   "metadata": {},
   "outputs": [
    {
     "output_type": "execute_result",
     "data": {
      "text/plain": [
       "   age_approx  target  sex_female  sex_male  anatom_head/neck  \\\n",
       "0   -0.269274       0           0         1                 1   \n",
       "1   -0.269274       0           1         0                 0   \n",
       "2    0.078784       0           1         0                 0   \n",
       "\n",
       "   anatom_lower extremity  anatom_oral/genital  anatom_palms/soles  \\\n",
       "0                       0                    0                   0   \n",
       "1                       0                    0                   0   \n",
       "2                       1                    0                   0   \n",
       "\n",
       "   anatom_torso  anatom_upper extremity  \n",
       "0             0                       0  \n",
       "1             0                       1  \n",
       "2             0                       0  "
      ],
      "text/html": "<div>\n<style scoped>\n    .dataframe tbody tr th:only-of-type {\n        vertical-align: middle;\n    }\n\n    .dataframe tbody tr th {\n        vertical-align: top;\n    }\n\n    .dataframe thead th {\n        text-align: right;\n    }\n</style>\n<table border=\"1\" class=\"dataframe\">\n  <thead>\n    <tr style=\"text-align: right;\">\n      <th></th>\n      <th>age_approx</th>\n      <th>target</th>\n      <th>sex_female</th>\n      <th>sex_male</th>\n      <th>anatom_head/neck</th>\n      <th>anatom_lower extremity</th>\n      <th>anatom_oral/genital</th>\n      <th>anatom_palms/soles</th>\n      <th>anatom_torso</th>\n      <th>anatom_upper extremity</th>\n    </tr>\n  </thead>\n  <tbody>\n    <tr>\n      <th>0</th>\n      <td>-0.269274</td>\n      <td>0</td>\n      <td>0</td>\n      <td>1</td>\n      <td>1</td>\n      <td>0</td>\n      <td>0</td>\n      <td>0</td>\n      <td>0</td>\n      <td>0</td>\n    </tr>\n    <tr>\n      <th>1</th>\n      <td>-0.269274</td>\n      <td>0</td>\n      <td>1</td>\n      <td>0</td>\n      <td>0</td>\n      <td>0</td>\n      <td>0</td>\n      <td>0</td>\n      <td>0</td>\n      <td>1</td>\n    </tr>\n    <tr>\n      <th>2</th>\n      <td>0.078784</td>\n      <td>0</td>\n      <td>1</td>\n      <td>0</td>\n      <td>0</td>\n      <td>1</td>\n      <td>0</td>\n      <td>0</td>\n      <td>0</td>\n      <td>0</td>\n    </tr>\n  </tbody>\n</table>\n</div>"
     },
     "metadata": {},
     "execution_count": 39
    }
   ],
   "source": [
    "df.head(3)"
   ]
  },
  {
   "cell_type": "code",
   "execution_count": 102,
   "metadata": {},
   "outputs": [],
   "source": [
    "feature_columns = ['age_approx', 'sex_female', 'sex_male', 'anatom_head/neck',\n",
    "       'anatom_lower extremity', 'anatom_oral/genital', 'anatom_palms/soles',\n",
    "       'anatom_torso', 'anatom_upper extremity']\n",
    "\n",
    "target_columns = ['target']"
   ]
  },
  {
   "cell_type": "code",
   "execution_count": 103,
   "metadata": {},
   "outputs": [],
   "source": [
    "df_train, df_test = train_test_split(df, test_size=0.20, random_state=SEED)\n",
    "\n",
    "x_train = df_train[feature_columns]\n",
    "y_train = df_train[target_columns]\n",
    "\n",
    "x_test = df_test[feature_columns]\n",
    "y_test = df_test[target_columns]"
   ]
  },
  {
   "cell_type": "code",
   "execution_count": 147,
   "metadata": {},
   "outputs": [],
   "source": [
    "# Source\n",
    "# https://www.kaggle.com/teyang/melanoma-detection-using-effnet-and-meta-data\n",
    "model = RandomForestClassifier(\n",
    "    n_estimators=5000, \n",
    "    max_depth=5, \n",
    "    class_weight='balanced',\n",
    "    n_jobs=-1, \n",
    "    random_state=SEED)"
   ]
  },
  {
   "cell_type": "code",
   "execution_count": 148,
   "metadata": {},
   "outputs": [
    {
     "output_type": "stream",
     "name": "stdout",
     "text": [
      "Fold 1 roc_auc_score: 0.6772194465795542\n",
      "Fold 2 roc_auc_score: 0.6191151037663336\n",
      "Fold 3 roc_auc_score: 0.6493682744043043\n",
      "Fold 4 roc_auc_score: 0.6086624071227261\n",
      "Fold 5 roc_auc_score: 0.6220775685370228\n"
     ]
    }
   ],
   "source": [
    "fold_no = 1\n",
    "kf = StratifiedKFold(5, shuffle=True, random_state=SEED)\n",
    "\n",
    "for train_indexes, test_index in kf.split(x_train, y_train):    \n",
    "    \n",
    "    x_train_fold = x_train.iloc[train_indexes]\n",
    "    y_train_fold = list(y_train.iloc[train_indexes].loc[:,'target'])\n",
    "    y_train_fold = [int(x) for x in y_train_fold]\n",
    "\n",
    "    x_test_fold = x_train.iloc[test_index]\n",
    "    y_test_fold = list(y_train.iloc[test_index].loc[:,'target'])\n",
    "    y_test_fold = [int(x) for x in y_test_fold]\n",
    "\n",
    "\n",
    "    model.fit(x_train_fold, y_train_fold)\n",
    "    predictions = model.predict(x_test_fold)\n",
    "\n",
    "    print('Fold',str(fold_no), 'roc_auc_score:', roc_auc_score(y_test_fold, predictions))\n",
    "    fold_no += 1"
   ]
  },
  {
   "cell_type": "code",
   "execution_count": 149,
   "metadata": {},
   "outputs": [
    {
     "output_type": "execute_result",
     "data": {
      "text/plain": [
       "['../app/model-server/rf_model.joblib']"
      ]
     },
     "metadata": {},
     "execution_count": 149
    }
   ],
   "source": [
    "dump(model, '../app/model-server/rf_model.joblib') "
   ]
  },
  {
   "cell_type": "code",
   "execution_count": 150,
   "metadata": {},
   "outputs": [
    {
     "output_type": "stream",
     "name": "stdout",
     "text": [
      "roc_auc_score: 0.6746927558795084\n"
     ]
    }
   ],
   "source": [
    "predictions = model.predict(x_test)\n",
    "print('roc_auc_score:', roc_auc_score(y_test, predictions))"
   ]
  },
  {
   "cell_type": "code",
   "execution_count": 151,
   "metadata": {},
   "outputs": [
    {
     "output_type": "stream",
     "name": "stdout",
     "text": [
      "roc_auc_score: 0.6746927558795084\n"
     ]
    }
   ],
   "source": [
    "model_2 = load('../app/model-server/rf_model.joblib')\n",
    "predictions = model.predict(x_test)\n",
    "print('roc_auc_score:', roc_auc_score(y_test, predictions))"
   ]
  }
 ]
}